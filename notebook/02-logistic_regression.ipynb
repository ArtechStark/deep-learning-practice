{
 "cells": [
  {
   "cell_type": "code",
   "execution_count": 1,
   "metadata": {},
   "outputs": [],
   "source": [
    "import torch \n",
    "import torch.nn as nn\n",
    "import torchvision\n",
    "import torchvision.transforms as transforms"
   ]
  },
  {
   "cell_type": "code",
   "execution_count": 2,
   "metadata": {},
   "outputs": [],
   "source": [
    "# Hyper- parameters\n",
    "input_size = 784\n",
    "num_classes = 10\n",
    "num_epochs = 5\n",
    "batch_size = 100\n",
    "learning_rate = 0.001"
   ]
  },
  {
   "cell_type": "code",
   "execution_count": 3,
   "metadata": {},
   "outputs": [],
   "source": [
    "# MNIST dataset (images and labels)\n",
    "train_dataset = torchvision.datasets.MNIST(\n",
    "    root='../../data/', train=True, transform=transforms.ToTensor(),\n",
    "    download=True)\n",
    "test_dataset = torchvision.datasets.MNIST(\n",
    "    root='../../data', train=False, transform=transforms.ToTensor())\n",
    "\n",
    "# Data loader (input pipline)\n",
    "train_loader = torch.utils.data.DataLoader(\n",
    "    dataset=train_dataset, batch_size=batch_size, shuffle=True)\n",
    "test_loader = torch.utils.data.DataLoader(\n",
    "    dataset=test_dataset, batch_size=batch_size, shuffle=False)"
   ]
  },
  {
   "cell_type": "code",
   "execution_count": 4,
   "metadata": {},
   "outputs": [],
   "source": [
    "# Logistic regression model\n",
    "model = nn.Linear(input_size, num_classes)\n",
    "\n",
    "# Loss and optimizer\n",
    "criterion = nn.CrossEntropyLoss()\n",
    "optimizer = torch.optim.SGD(model.parameters(), lr=learning_rate)"
   ]
  },
  {
   "cell_type": "code",
   "execution_count": 5,
   "metadata": {},
   "outputs": [
    {
     "name": "stdout",
     "output_type": "stream",
     "text": [
      "Epoch: [1/5], Step: [100/600], Loss: 2.2121\n",
      "Epoch: [1/5], Step: [200/600], Loss: 2.1096\n",
      "Epoch: [1/5], Step: [300/600], Loss: 2.0143\n",
      "Epoch: [1/5], Step: [400/600], Loss: 1.9537\n",
      "Epoch: [1/5], Step: [500/600], Loss: 1.8207\n",
      "Epoch: [1/5], Step: [600/600], Loss: 1.7634\n",
      "Epoch: [2/5], Step: [100/600], Loss: 1.7247\n",
      "Epoch: [2/5], Step: [200/600], Loss: 1.6474\n",
      "Epoch: [2/5], Step: [300/600], Loss: 1.6087\n",
      "Epoch: [2/5], Step: [400/600], Loss: 1.5415\n",
      "Epoch: [2/5], Step: [500/600], Loss: 1.4201\n",
      "Epoch: [2/5], Step: [600/600], Loss: 1.5370\n",
      "Epoch: [3/5], Step: [100/600], Loss: 1.4954\n",
      "Epoch: [3/5], Step: [200/600], Loss: 1.3530\n",
      "Epoch: [3/5], Step: [300/600], Loss: 1.2833\n",
      "Epoch: [3/5], Step: [400/600], Loss: 1.2928\n",
      "Epoch: [3/5], Step: [500/600], Loss: 1.2707\n",
      "Epoch: [3/5], Step: [600/600], Loss: 1.2966\n",
      "Epoch: [4/5], Step: [100/600], Loss: 1.2374\n",
      "Epoch: [4/5], Step: [200/600], Loss: 1.2150\n",
      "Epoch: [4/5], Step: [300/600], Loss: 1.1474\n",
      "Epoch: [4/5], Step: [400/600], Loss: 1.2373\n",
      "Epoch: [4/5], Step: [500/600], Loss: 1.1879\n",
      "Epoch: [4/5], Step: [600/600], Loss: 1.1431\n",
      "Epoch: [5/5], Step: [100/600], Loss: 1.0818\n",
      "Epoch: [5/5], Step: [200/600], Loss: 0.9937\n",
      "Epoch: [5/5], Step: [300/600], Loss: 1.0329\n",
      "Epoch: [5/5], Step: [400/600], Loss: 0.9898\n",
      "Epoch: [5/5], Step: [500/600], Loss: 0.9914\n",
      "Epoch: [5/5], Step: [600/600], Loss: 0.9257\n",
      "Accuracy of the model on the 10000 test images: 82 %\n"
     ]
    }
   ],
   "source": [
    "# Train the model\n",
    "total_step = len(train_loader)\n",
    "for epoch in range(num_epochs):\n",
    "    for i, (images, labels) in enumerate(train_loader):\n",
    "        # Reshape images to (batch_size, input_size)\n",
    "        images = images.reshape(-1, 28*28)\n",
    "\n",
    "        # Forward pass\n",
    "        outputs = model(images)\n",
    "        loss = criterion(outputs, labels)\n",
    "\n",
    "        # Backward and optimize\n",
    "        optimizer.zero_grad()\n",
    "        loss.backward()\n",
    "        optimizer.step()\n",
    "\n",
    "        if (i+1) % 100 == 0:\n",
    "            print('Epoch: [{}/{}], Step: [{}/{}], Loss: {:.4f}'\n",
    "                  .format(epoch+1, num_epochs, i+1, total_step, loss.item()))\n",
    "# Test the model\n",
    "# In the test phase, we don't need to compute gradients (for memory efficiency)\n",
    "with torch.no_grad():\n",
    "    correct = 0\n",
    "    total = 0\n",
    "    for images, labels in test_loader:\n",
    "        images = images.reshape(-1, 28*28)\n",
    "        outputs = model(images)\n",
    "        _, predicted = torch.max(outputs.data, 1)\n",
    "        total += labels.size(0)\n",
    "        correct += (predicted == labels).sum()\n",
    "\n",
    "    print('Accuracy of the model on the 10000 test images: {} %'.format(\n",
    "        100 * correct / total))"
   ]
  },
  {
   "cell_type": "code",
   "execution_count": 6,
   "metadata": {},
   "outputs": [],
   "source": [
    "# Save the model checkpoint\n",
    "torch.save(model.state_dict(), './checkpoint/logistic_regression.ckpt')"
   ]
  }
 ],
 "metadata": {
  "kernelspec": {
   "display_name": "Python 3",
   "language": "python",
   "name": "python3"
  },
  "language_info": {
   "codemirror_mode": {
    "name": "ipython",
    "version": 3
   },
   "file_extension": ".py",
   "mimetype": "text/x-python",
   "name": "python",
   "nbconvert_exporter": "python",
   "pygments_lexer": "ipython3",
   "version": "3.6.5"
  },
  "toc": {
   "base_numbering": 1,
   "nav_menu": {},
   "number_sections": true,
   "sideBar": true,
   "skip_h1_title": false,
   "title_cell": "Table of Contents",
   "title_sidebar": "Contents",
   "toc_cell": false,
   "toc_position": {},
   "toc_section_display": true,
   "toc_window_display": false
  },
  "varInspector": {
   "cols": {
    "lenName": 16,
    "lenType": 16,
    "lenVar": 40
   },
   "kernels_config": {
    "python": {
     "delete_cmd_postfix": "",
     "delete_cmd_prefix": "del ",
     "library": "var_list.py",
     "varRefreshCmd": "print(var_dic_list())"
    },
    "r": {
     "delete_cmd_postfix": ") ",
     "delete_cmd_prefix": "rm(",
     "library": "var_list.r",
     "varRefreshCmd": "cat(var_dic_list()) "
    }
   },
   "types_to_exclude": [
    "module",
    "function",
    "builtin_function_or_method",
    "instance",
    "_Feature"
   ],
   "window_display": false
  }
 },
 "nbformat": 4,
 "nbformat_minor": 2
}

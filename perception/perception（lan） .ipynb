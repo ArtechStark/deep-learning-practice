{
 "cells": [
  {
   "cell_type": "code",
   "execution_count": 45,
   "metadata": {},
   "outputs": [],
   "source": [
    "import torch\n",
    "import torch.nn as nn\n",
    "import torchvision\n",
    "from torchvision.transforms import transforms"
   ]
  },
  {
   "cell_type": "code",
   "execution_count": 46,
   "metadata": {},
   "outputs": [],
   "source": [
    "# device configuration\n",
    "device =torch.device('cuda' if torch.cuda.is_available() else 'cpu')"
   ]
  },
  {
   "cell_type": "markdown",
   "metadata": {},
   "source": [
    "# 完整的模型训练"
   ]
  },
  {
   "cell_type": "code",
   "execution_count": 60,
   "metadata": {},
   "outputs": [
    {
     "name": "stdout",
     "output_type": "stream",
     "text": [
      "epoch[1/5],step:[100/600],loss:2.2967\n",
      "epoch[1/5],step:[200/600],loss:2.2931\n",
      "epoch[1/5],step:[300/600],loss:2.3003\n",
      "epoch[1/5],step:[400/600],loss:2.2935\n",
      "epoch[1/5],step:[500/600],loss:2.3100\n",
      "epoch[1/5],step:[600/600],loss:2.3040\n",
      "epoch[2/5],step:[100/600],loss:2.3019\n",
      "epoch[2/5],step:[200/600],loss:2.3000\n",
      "epoch[2/5],step:[300/600],loss:2.2986\n",
      "epoch[2/5],step:[400/600],loss:2.2998\n",
      "epoch[2/5],step:[500/600],loss:2.2987\n",
      "epoch[2/5],step:[600/600],loss:2.2994\n",
      "epoch[3/5],step:[100/600],loss:2.3032\n",
      "epoch[3/5],step:[200/600],loss:2.2994\n",
      "epoch[3/5],step:[300/600],loss:2.2990\n",
      "epoch[3/5],step:[400/600],loss:2.3021\n",
      "epoch[3/5],step:[500/600],loss:2.2974\n",
      "epoch[3/5],step:[600/600],loss:2.3013\n",
      "epoch[4/5],step:[100/600],loss:2.2943\n",
      "epoch[4/5],step:[200/600],loss:2.2984\n",
      "epoch[4/5],step:[300/600],loss:2.2959\n",
      "epoch[4/5],step:[400/600],loss:2.2983\n",
      "epoch[4/5],step:[500/600],loss:2.3063\n",
      "epoch[4/5],step:[600/600],loss:2.2989\n",
      "epoch[5/5],step:[100/600],loss:2.3020\n",
      "epoch[5/5],step:[200/600],loss:2.3002\n",
      "epoch[5/5],step:[300/600],loss:2.2987\n",
      "epoch[5/5],step:[400/600],loss:2.3070\n",
      "epoch[5/5],step:[500/600],loss:2.2943\n",
      "epoch[5/5],step:[600/600],loss:2.2992\n"
     ]
    }
   ],
   "source": [
    "batch_size = 100\n",
    "input_size = 784\n",
    "hidden_size = 500\n",
    "num_class= 10\n",
    "lr = 0.001\n",
    "num_epoch = 5\n",
    "\n",
    "train_dataset = torchvision.datasets.MNIST(root='../../data',train=True,transform=transforms.ToTensor(),download=True)\n",
    "test_dataset = torchvision.datasets.MNIST(root='../../data',train =False,transform=transforms.ToTensor())\n",
    "train_loader= torch.utils.data.DataLoader(dataset= train_dataset,batch_size=batch_size,shuffle= True)\n",
    "test_loader= torch.utils.data.DataLoader(dataset= train_dataset,batch_size=batch_size,shuffle= False)\n",
    "\n",
    "#此处加载下来的dataset是个什么样子？\n",
    "# train——loader是600，这代表了什么？\n",
    "\n",
    "#全连接层\n",
    "class neuralnet(nn.Module):\n",
    "    def __init__(self,input_size,hidden_size,output_size):\n",
    "        super(neuralnet,self).__init__()\n",
    "        self.layer1 = nn.Linear(input_size,hidden_size)\n",
    "        self.layer2 = nn.Linear(hidden_size,hidden_size)\n",
    "        self.layer3 = nn.Linear(hidden_size,output_size)\n",
    "        \n",
    "    def forward(self,x):\n",
    "        x= nn.functional.relu(self.layer1(x))\n",
    "        x = self.layer2(x)\n",
    "        x = nn.functional.relu(x)\n",
    "        x= self.layer3(x)\n",
    "        return x \n",
    "\n",
    "net = neuralnet(input_size,hidden_size,num_class,).to(device)\n",
    "\n",
    "loss_F= nn.CrossEntropyLoss()\n",
    "optimizer = torch.optim.Adam(net.parameters(),lr=lr)\n",
    "\n",
    "# train the model\n",
    "total_step = len(train_loader)\n",
    "for epoch in range(num_epoch):\n",
    "    for i,(images,lables) in enumerate(train_loader):\n",
    "        images = images.reshape(-1,28*28).to(device)\n",
    "        labels = labels.to(device)\n",
    "        \n",
    "        output = net(images)\n",
    "        loss = loss_F(output,labels)\n",
    "        \n",
    "        optimizer.zero_grad()\n",
    "        loss.backward()\n",
    "        optimizer.step()\n",
    "        \n",
    "        if (i+1)%100 ==0:\n",
    "            print(\"epoch[{}/{}],step:[{}/{}],loss:{:.4f}\".format(epoch+1,num_epoch,i+1,total_step,loss.item()))\n",
    "        \n",
    "       "
   ]
  },
  {
   "cell_type": "markdown",
   "metadata": {},
   "source": [
    "# test the model"
   ]
  },
  {
   "cell_type": "code",
   "execution_count": 59,
   "metadata": {},
   "outputs": [
    {
     "data": {
      "text/plain": [
       "False"
      ]
     },
     "execution_count": 59,
     "metadata": {},
     "output_type": "execute_result"
    }
   ],
   "source": [
    "torch.cuda.is_available()"
   ]
  },
  {
   "cell_type": "code",
   "execution_count": 54,
   "metadata": {},
   "outputs": [
    {
     "name": "stdout",
     "output_type": "stream",
     "text": [
      "neuralnet(\n",
      "  (layer1): Linear(in_features=784, out_features=500, bias=True)\n",
      "  (layer2): Linear(in_features=500, out_features=10, bias=True)\n",
      ")\n"
     ]
    }
   ],
   "source": [
    "print(net)"
   ]
  },
  {
   "cell_type": "code",
   "execution_count": 35,
   "metadata": {},
   "outputs": [
    {
     "name": "stdout",
     "output_type": "stream",
     "text": [
      "accuracy of the network is 11.236666666666666%\n"
     ]
    }
   ],
   "source": [
    "# test the model\n",
    "with torch.no_grad():\n",
    "    correct = 0\n",
    "    total = 0\n",
    "    for images,labels in test_loader:\n",
    "        image = images.reshape(-1,28*28).to(device)\n",
    "        label =labels.to(device)\n",
    "        output = net(image)\n",
    "        _,prediction = torch.max(output.data,1)\n",
    "        total += label.size(0)\n",
    "        correct += sum(prediction==label).item()\n",
    "        \n",
    "    print(\"accuracy of the network is {}%\".format(100*correct/total))"
   ]
  },
  {
   "cell_type": "code",
   "execution_count": null,
   "metadata": {},
   "outputs": [],
   "source": []
  }
 ],
 "metadata": {
  "kernelspec": {
   "display_name": "Python 3",
   "language": "python",
   "name": "python3"
  },
  "language_info": {
   "codemirror_mode": {
    "name": "ipython",
    "version": 3
   },
   "file_extension": ".py",
   "mimetype": "text/x-python",
   "name": "python",
   "nbconvert_exporter": "python",
   "pygments_lexer": "ipython3",
   "version": "3.6.8"
  }
 },
 "nbformat": 4,
 "nbformat_minor": 2
}
